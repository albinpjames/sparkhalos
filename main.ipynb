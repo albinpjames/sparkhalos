{
 "cells": [
  {
   "cell_type": "markdown",
   "metadata": {},
   "source": [
    "## Importing Basic Packages"
   ]
  },
  {
   "cell_type": "code",
   "execution_count": 4,
   "metadata": {},
   "outputs": [],
   "source": [
    "from sparkhalos.simulprocess import abacussummit\n",
    "from sparkhalos.simulprocess.simparams import SimuParams\n",
    "from sparkhalos.hstats.hmfcalc import dndlnm, hmfcalc\n",
    "from sparkhalos.hstats.cic import cic_halos\n",
    "\n",
    "\n",
    "datalocation = \"/mnt/dark/Projects/3.CUSAT/Data\"\n",
    "params = SimuParams.init(datalocation, abacussummit.simparams, type= \"small\", intcont= \"ph3000\", boxsize=500)\n",
    "\n",
    "# Redshifts to be computed\n",
    "# redshifts = [\"3.000\",\"2.000\",\"1.100\",\"0.500\",\"0.200\"]\n",
    "redshifts = [\"3.000\"]\n",
    "totalbins = 50"
   ]
  },
  {
   "cell_type": "markdown",
   "metadata": {},
   "source": [
    "## Calculating hmf"
   ]
  },
  {
   "cell_type": "code",
   "execution_count": null,
   "metadata": {},
   "outputs": [],
   "source": [
    "for redshift in redshifts:\n",
    "    hmf = hmfcalc(redshift)\n",
    "    halomf, bin_centers = dndlnm(params, redshift, totalbins)"
   ]
  },
  {
   "cell_type": "code",
   "execution_count": 5,
   "metadata": {},
   "outputs": [
    {
     "data": {
      "text/plain": [
       "[<matplotlib.lines.Line2D at 0x7f10c545bd50>]"
      ]
     },
     "execution_count": 5,
     "metadata": {},
     "output_type": "execute_result"
    },
    {
     "data": {
      "image/png": "[encoded data removed]",
      "text/plain": [
       "<Figure size 640x480 with 1 Axes>"
      ]
     },
     "metadata": {},
     "output_type": "display_data"
    }
   ],
   "source": [
    "# Ploting HMF\n",
    "import matplotlib.pyplot as plt\n",
    "plt.scatter(bin_centers, halomf, color = '#2ab0ff' , s=10)\n",
    "plt.loglog(hmf.m,hmf.dndlnm, linewidth=0.5, color ='k')"
   ]
  },
  {
   "cell_type": "markdown",
   "metadata": {},
   "source": [
    "## CIC for halos"
   ]
  },
  {
   "cell_type": "code",
   "execution_count": 5,
   "metadata": {},
   "outputs": [
    {
     "name": "stdout",
     "output_type": "stream",
     "text": [
      "Reading file\n"
     ]
    },
    {
     "ename": "TypeError",
     "evalue": "'float' object cannot be interpreted as an integer",
     "output_type": "error",
     "traceback": [
      "\u001b[0;31m---------------------------------------------------------------------------\u001b[0m",
      "\u001b[0;31mTypeError\u001b[0m                                 Traceback (most recent call last)",
      "Cell \u001b[0;32mIn[5], line 3\u001b[0m\n\u001b[1;32m      1\u001b[0m \u001b[39mfor\u001b[39;00m redshift \u001b[39min\u001b[39;00m redshifts:\n\u001b[1;32m      2\u001b[0m     nw_boxsize \u001b[39m=\u001b[39m \u001b[39m25\u001b[39m\n\u001b[0;32m----> 3\u001b[0m     boxdata \u001b[39m=\u001b[39m cic_halos(params, redshift, nw_boxsize, totalbins)\n",
      "File \u001b[0;32m/mnt/dark/Projects/3.CUSAT/sparkhalos/sparkhalos/hstats/cic.py:137\u001b[0m, in \u001b[0;36mcic_halos\u001b[0;34m(params, redshift, nw_boxsize, totalbins)\u001b[0m\n\u001b[1;32m    134\u001b[0m     boxes\u001b[39m.\u001b[39mappend(x[i][\u001b[39m0\u001b[39m] \u001b[39m+\u001b[39m cutside\u001b[39m*\u001b[39mx[i][\u001b[39m1\u001b[39m] \u001b[39m+\u001b[39m cutside\u001b[39m*\u001b[39m\u001b[39m*\u001b[39m\u001b[39m2\u001b[39m\u001b[39m*\u001b[39mx[i][\u001b[39m2\u001b[39m])\n\u001b[1;32m    136\u001b[0m \u001b[39m#Box halo numbers\u001b[39;00m\n\u001b[0;32m--> 137\u001b[0m boxdata \u001b[39m=\u001b[39m np\u001b[39m.\u001b[39mzeros((totalbins,totalboxes))\n\u001b[1;32m    138\u001b[0m \u001b[39mfor\u001b[39;00m i \u001b[39min\u001b[39;00m \u001b[39mrange\u001b[39m(\u001b[39mlen\u001b[39m(boxes)):\n\u001b[1;32m    139\u001b[0m     f \u001b[39m=\u001b[39m \u001b[39mint\u001b[39m((np\u001b[39m.\u001b[39mlog10(data[:,\u001b[39m0\u001b[39m][i]) \u001b[39m-\u001b[39m np\u001b[39m.\u001b[39mlog10(binedge[\u001b[39m0\u001b[39m]))\u001b[39m/\u001b[39mdm)\n",
      "\u001b[0;31mTypeError\u001b[0m: 'float' object cannot be interpreted as an integer"
     ]
    }
   ],
   "source": [
    "for redshift in redshifts:\n",
    "    nw_boxsize = 25\n",
    "    boxdata = cic_halos(params, redshift, nw_boxsize, totalbins)"
   ]
  },
  {
   "cell_type": "code",
   "execution_count": null,
   "metadata": {},
   "outputs": [],
   "source": [
    "\n",
    "plt.hist(np.sum(boxdata, axis=0), bins=bins, density=True, facecolor = '#2ab0ff', edgecolor='#169acf', linewidth=0.5, alpha = 0.15)"
   ]
  },
  {
   "cell_type": "code",
   "execution_count": 3,
   "metadata": {},
   "outputs": [
    {
     "name": "stdout",
     "output_type": "stream",
     "text": [
      "Status: Extracting the mass and position of the particles\n",
      "Reading the data\n",
      "converting to mass\n",
      "Writing the processed data to the file\n"
     ]
    }
   ],
   "source": [
    "for redshift in redshifts:\n",
    "    abacussummit.mass_pos(params, redshift)\n"
   ]
  },
  {
   "cell_type": "code",
   "execution_count": 2,
   "metadata": {},
   "outputs": [
    {
     "name": "stdout",
     "output_type": "stream",
     "text": [
      "Reading file\n"
     ]
    }
   ],
   "source": [
    "import os\n",
    "from astropy.io import ascii\n",
    "\n",
    "for redshift in redshifts:\n",
    "    pathset = os.path.join(\n",
    "        params.datadirec,\n",
    "        \"ProcessedData\",\n",
    "        \"AbacusSummit_\" + params.type + \"_\" + params.cosmo + \"_\" + params.intcont,\n",
    "        \"halos/z\" + redshift,\n",
    "    )\n",
    "\n",
    "    # check the directory does not exist\n",
    "    if not (os.path.exists(pathset)):\n",
    "        print(\"Processed file does not exist\")\n",
    "\n",
    "    print(\"Reading file\")\n",
    "\n",
    "    # Reads the data to be used for caluclating hmf\n",
    "    data = ascii.read(os.path.join(pathset, params.filename_notime + \"_\" + redshift + \".dat\"))    "
   ]
  },
  {
   "cell_type": "code",
   "execution_count": 3,
   "metadata": {},
   "outputs": [],
   "source": [
    "from math import factorial as fact, sqrt as sq, exp, pi\n",
    "from scipy.special import gamma, gammaln\n",
    "import math\n",
    "import numpy as np\n",
    "import os\n",
    "from astropy.io import ascii\n",
    "from astropy.table import Column"
   ]
  },
  {
   "cell_type": "code",
   "execution_count": 4,
   "metadata": {},
   "outputs": [],
   "source": [
    "nw_boxsize = 100\n",
    "cutside = params.boxsize/nw_boxsize\n",
    "totalboxes = int(cutside**3)"
   ]
  },
  {
   "cell_type": "code",
   "execution_count": null,
   "metadata": {},
   "outputs": [],
   "source": []
  },
  {
   "cell_type": "code",
   "execution_count": 7,
   "metadata": {},
   "outputs": [],
   "source": [
    "data_bckp = data"
   ]
  },
  {
   "cell_type": "code",
   "execution_count": 82,
   "metadata": {},
   "outputs": [],
   "source": [
    "data = np.lib.recfunctions.structured_to_unstructured(data)"
   ]
  },
  {
   "cell_type": "code",
   "execution_count": 84,
   "metadata": {},
   "outputs": [
    {
     "data": {
      "text/plain": [
       "array([1.19650269e-06, 4.98672485e-07, 4.51080322e-07, ...,\n",
       "       4.99376282e-04, 4.99337006e-04, 4.99477966e-04])"
      ]
     },
     "execution_count": 84,
     "metadata": {},
     "output_type": "execute_result"
    }
   ],
   "source": []
  },
  {
   "cell_type": "code",
   "execution_count": 76,
   "metadata": {},
   "outputs": [
    {
     "name": "stdout",
     "output_type": "stream",
     "text": [
      "         xpos         \n",
      "----------------------\n",
      " 7.250312805175781e-06\n",
      "1.1441879272460937e-06\n",
      " 5.566337585449218e-06\n",
      "3.6302413940429687e-06\n",
      " 4.964199066162109e-06\n",
      " 5.911968231201173e-06\n",
      "1.1936340332031248e-06\n",
      "  7.42716598510742e-06\n",
      " 6.623188018798828e-06\n",
      "6.8757858276367196e-06\n",
      "                   ...\n",
      "  0.003121396408081054\n",
      " 0.0031201259613037107\n",
      "  0.003119753189086915\n",
      "  0.003120801254272461\n",
      "  0.003120563888549805\n",
      "  0.003122342681884766\n",
      "  0.003121408660888672\n",
      " 0.0031214009094238286\n",
      " 0.0031236086807250978\n",
      " 0.0031200673751831053\n",
      " 0.0031218383865356447\n",
      "Length = 3346751 rows\n"
     ]
    },
    {
     "ename": "IndexError",
     "evalue": "only integers, slices (`:`), ellipsis (`...`), numpy.newaxis (`None`) and integer or boolean arrays are valid indices",
     "output_type": "error",
     "traceback": [
      "\u001b[0;31m---------------------------------------------------------------------------\u001b[0m",
      "\u001b[0;31mIndexError\u001b[0m                                Traceback (most recent call last)",
      "Cell \u001b[0;32mIn[76], line 24\u001b[0m\n\u001b[1;32m     22\u001b[0m \u001b[39mfor\u001b[39;00m i \u001b[39min\u001b[39;00m \u001b[39mrange\u001b[39m(\u001b[39mlen\u001b[39m(boxes)):\n\u001b[1;32m     23\u001b[0m     f \u001b[39m=\u001b[39m \u001b[39mint\u001b[39m((np\u001b[39m.\u001b[39mlog10(data[\u001b[39m'\u001b[39m\u001b[39mN\u001b[39m\u001b[39m'\u001b[39m][i]) \u001b[39m-\u001b[39m np\u001b[39m.\u001b[39mlog10(binedge[\u001b[39m0\u001b[39m]))\u001b[39m/\u001b[39mdm)\n\u001b[0;32m---> 24\u001b[0m     boxdata[f][boxes[i]] \u001b[39m=\u001b[39m boxdata[f][boxes[i]]\u001b[39m+\u001b[39m\u001b[39m1\u001b[39m\n\u001b[1;32m     27\u001b[0m \u001b[39m#Box halo numbers\u001b[39;00m\n\u001b[1;32m     28\u001b[0m \u001b[39m# boxdata = np.zeros((totalbins,totalboxes))\u001b[39;00m\n\u001b[1;32m     29\u001b[0m \n\u001b[0;32m   (...)\u001b[0m\n\u001b[1;32m     32\u001b[0m \u001b[39m#     for i in range(totalbins):\u001b[39;00m\n\u001b[1;32m     33\u001b[0m \u001b[39m#         boxdata[i][f] = len(data_fil[\"N\"][int((np.log10(data_fil[\"N\"]) - np.log10(binedge[0]))/dm) == i])\u001b[39;00m\n",
      "\u001b[0;31mIndexError\u001b[0m: only integers, slices (`:`), ellipsis (`...`), numpy.newaxis (`None`) and integer or boolean arrays are valid indices"
     ]
    }
   ],
   "source": [
    "x = data\n",
    "x[\"xpos\"] = data[\"xpos\"]/nw_boxsize\n",
    "x[\"ypos\"] = data[\"ypos\"]/nw_boxsize\n",
    "x[\"zpos\"] = data[\"ypos\"]/nw_boxsize\n",
    "\n",
    "binedge = np.logspace(\n",
    "    np.log(np.min(data[\"N\"])),\n",
    "    np.log(np.max(data[\"N\"])),\n",
    "    totalbins + 1,\n",
    "    base=math.e,\n",
    ")\n",
    "\n",
    "dm = np.log10(binedge[1])-np.log10(binedge[0])\n",
    "\n",
    "boxno = x[\"xpos\"] + cutside*x[\"ypos\"] + cutside**2*x[\"zpos\"]\n",
    "print(boxno)\n",
    "boxes = np.array(boxno)\n",
    "data = np.array(data)\n",
    "\n",
    "\n",
    "boxdata = np.zeros((totalbins,totalboxes))\n",
    "for i in range(len(boxes)):\n",
    "    f = int((np.log10(data['N'][i]) - np.log10(binedge[0]))/dm)\n",
    "    boxdata[f][boxes[i]] = boxdata[f][boxes[i]]+1\n",
    "\n",
    "\n",
    "#Box halo numbers\n",
    "# boxdata = np.zeros((totalbins,totalboxes))\n",
    "\n",
    "# for f in range(totalboxes):\n",
    "#     data_fil = data[\"N\"][data[\"boxno\"] == f]\n",
    "#     for i in range(totalbins):\n",
    "#         boxdata[i][f] = len(data_fil[\"N\"][int((np.log10(data_fil[\"N\"]) - np.log10(binedge[0]))/dm) == i])"
   ]
  },
  {
   "cell_type": "code",
   "execution_count": 75,
   "metadata": {},
   "outputs": [
    {
     "data": {
      "text/html": [
       "<div><i>Table length=3346751</i>\n",
       "<table id=\"table140655023631248\" class=\"table-striped table-bordered table-condensed\">\n",
       "<thead><tr><th>N</th><th>xpos</th><th>ypos</th><th>zpos</th></tr></thead>\n",
       "<thead><tr><th>float64</th><th>float64</th><th>float64</th><th>float64</th></tr></thead>\n",
       "<tr><td>432361711692.8779</td><td>0.0001196502685546875</td><td>0.0001153106689453125</td><td>1.153106689453125e-06</td></tr>\n",
       "<tr><td>78036016256.76334</td><td>4.986724853515625e-05</td><td>1.22955322265625e-05</td><td>1.22955322265625e-07</td></tr>\n",
       "<tr><td>73817853215.85721</td><td>4.51080322265625e-05</td><td>9.74334716796875e-05</td><td>9.74334716796875e-07</td></tr>\n",
       "<tr><td>94908668420.38783</td><td>5.67047119140625e-05</td><td>5.83465576171875e-05</td><td>5.83465576171875e-07</td></tr>\n",
       "<tr><td>261526108536.1798</td><td>9.037322998046875e-05</td><td>7.734222412109375e-05</td><td>7.734222412109374e-07</td></tr>\n",
       "<tr><td>103344994502.20009</td><td>5.1112365722656255e-05</td><td>0.00010287322998046875</td><td>1.0287322998046876e-06</td></tr>\n",
       "<tr><td>130763054268.0899</td><td>1.621551513671875e-05</td><td>1.9647216796874998e-05</td><td>1.9647216796874998e-07</td></tr>\n",
       "<tr><td>196144581402.13486</td><td>7.51953125e-05</td><td>0.00012714691162109374</td><td>1.2714691162109373e-06</td></tr>\n",
       "<tr><td>118108565145.37152</td><td>7.86712646484375e-05</td><td>0.00011117095947265625</td><td>1.1117095947265626e-06</td></tr>\n",
       "<tr><td>196144581402.13486</td><td>7.37701416015625e-05</td><td>0.0001169158935546875</td><td>1.1691589355468751e-06</td></tr>\n",
       "<tr><td>...</td><td>...</td><td>...</td><td>...</td></tr>\n",
       "<tr><td>350107532395.20844</td><td>0.04994374084472656</td><td>0.04991787719726562</td><td>0.0004991787719726562</td></tr>\n",
       "<tr><td>134981217308.99603</td><td>0.049928125000000004</td><td>0.04991375122070313</td><td>0.0004991375122070313</td></tr>\n",
       "<tr><td>75926934736.31027</td><td>0.04996365356445312</td><td>0.049926947021484376</td><td>0.0004992694702148437</td></tr>\n",
       "<tr><td>94908668420.38783</td><td>0.04994850463867188</td><td>0.04992531127929688</td><td>0.0004992531127929688</td></tr>\n",
       "<tr><td>358543858477.0207</td><td>0.04992037658691406</td><td>0.04996455078125</td><td>0.0004996455078125</td></tr>\n",
       "<tr><td>101235912981.74702</td><td>0.049981744384765624</td><td>0.049935070800781245</td><td>0.0004993507080078125</td></tr>\n",
       "<tr><td>423925385611.0657</td><td>0.04995546264648437</td><td>0.049939929199218754</td><td>0.0004993992919921876</td></tr>\n",
       "<tr><td>92799586899.93477</td><td>0.04993762817382812</td><td>0.049985379028320315</td><td>0.0004998537902832031</td></tr>\n",
       "<tr><td>75926934736.31027</td><td>0.049933700561523436</td><td>0.04991867370605469</td><td>0.0004991867370605469</td></tr>\n",
       "<tr><td>187708255320.3226</td><td>0.049947796630859374</td><td>0.049949722290039064</td><td>0.0004994972229003906</td></tr>\n",
       "</table></div>"
      ],
      "text/plain": [
       "<Table length=3346751>\n",
       "        N                   xpos          ...          zpos         \n",
       "     float64              float64         ...        float64        \n",
       "------------------ ---------------------- ... ----------------------\n",
       " 432361711692.8779  0.0001196502685546875 ...  1.153106689453125e-06\n",
       " 78036016256.76334  4.986724853515625e-05 ...   1.22955322265625e-07\n",
       " 73817853215.85721   4.51080322265625e-05 ...   9.74334716796875e-07\n",
       " 94908668420.38783   5.67047119140625e-05 ...   5.83465576171875e-07\n",
       " 261526108536.1798  9.037322998046875e-05 ...  7.734222412109374e-07\n",
       "103344994502.20009 5.1112365722656255e-05 ... 1.0287322998046876e-06\n",
       " 130763054268.0899  1.621551513671875e-05 ... 1.9647216796874998e-07\n",
       "196144581402.13486         7.51953125e-05 ... 1.2714691162109373e-06\n",
       "118108565145.37152   7.86712646484375e-05 ... 1.1117095947265626e-06\n",
       "196144581402.13486   7.37701416015625e-05 ... 1.1691589355468751e-06\n",
       "               ...                    ... ...                    ...\n",
       "350107532395.20844    0.04994374084472656 ...  0.0004991787719726562\n",
       "134981217308.99603   0.049928125000000004 ...  0.0004991375122070313\n",
       " 75926934736.31027    0.04996365356445312 ...  0.0004992694702148437\n",
       " 94908668420.38783    0.04994850463867188 ...  0.0004992531127929688\n",
       " 358543858477.0207    0.04992037658691406 ...     0.0004996455078125\n",
       "101235912981.74702   0.049981744384765624 ...  0.0004993507080078125\n",
       " 423925385611.0657    0.04995546264648437 ...  0.0004993992919921876\n",
       " 92799586899.93477    0.04993762817382812 ...  0.0004998537902832031\n",
       " 75926934736.31027   0.049933700561523436 ...  0.0004991867370605469\n",
       " 187708255320.3226   0.049947796630859374 ...  0.0004994972229003906"
      ]
     },
     "execution_count": 75,
     "metadata": {},
     "output_type": "execute_result"
    }
   ],
   "source": [
    "data = data_bckp\n",
    "data"
   ]
  },
  {
   "cell_type": "code",
   "execution_count": 73,
   "metadata": {},
   "outputs": [],
   "source": [
    "dataarray = np.array(data)\n"
   ]
  },
  {
   "cell_type": "code",
   "execution_count": 74,
   "metadata": {},
   "outputs": [
    {
     "data": {
      "text/plain": [
       "4.51080322265625e-05"
      ]
     },
     "execution_count": 74,
     "metadata": {},
     "output_type": "execute_result"
    }
   ],
   "source": [
    "dataarray['xpos'][2]"
   ]
  },
  {
   "cell_type": "code",
   "execution_count": 24,
   "metadata": {},
   "outputs": [],
   "source": [
    "datanew[\"xpos\"] /=3"
   ]
  },
  {
   "cell_type": "code",
   "execution_count": 25,
   "metadata": {},
   "outputs": [
    {
     "ename": "NameError",
     "evalue": "name 'x' is not defined",
     "output_type": "error",
     "traceback": [
      "\u001b[0;31m---------------------------------------------------------------------------\u001b[0m",
      "\u001b[0;31mNameError\u001b[0m                                 Traceback (most recent call last)",
      "Cell \u001b[0;32mIn[25], line 1\u001b[0m\n\u001b[0;32m----> 1\u001b[0m x[\u001b[39m\"\u001b[39m\u001b[39mxpos\u001b[39m\u001b[39m\"\u001b[39m] \u001b[39m=\u001b[39m data[\u001b[39m\"\u001b[39m\u001b[39mxpos\u001b[39m\u001b[39m\"\u001b[39m]\n",
      "\u001b[0;31mNameError\u001b[0m: name 'x' is not defined"
     ]
    }
   ],
   "source": [
    "x[\"xpos\"] = data[\"xpos\"]"
   ]
  },
  {
   "cell_type": "code",
   "execution_count": 1,
   "metadata": {},
   "outputs": [
    {
     "name": "stdout",
     "output_type": "stream",
     "text": [
      "1.24.0\n"
     ]
    }
   ],
   "source": [
    "import numpy as np\n",
    "print(np.__version__)"
   ]
  },
  {
   "cell_type": "code",
   "execution_count": 4,
   "metadata": {},
   "outputs": [
    {
     "data": {
      "text/plain": [
       "float"
      ]
     },
     "execution_count": 4,
     "metadata": {},
     "output_type": "execute_result"
    }
   ],
   "source": [
    "type(2.109081520453063*10**9)"
   ]
  },
  {
   "cell_type": "code",
   "execution_count": 4,
   "metadata": {},
   "outputs": [
    {
     "ename": "SyntaxError",
     "evalue": "incomplete input (251754521.py, line 1)",
     "output_type": "error",
     "traceback": [
      "\u001b[0;36m  Cell \u001b[0;32mIn[4], line 1\u001b[0;36m\u001b[0m\n\u001b[0;31m    np.log(binedge[i]) <= np.log(data[\"N\"]\u001b[0m\n\u001b[0m                                          ^\u001b[0m\n\u001b[0;31mSyntaxError\u001b[0m\u001b[0;31m:\u001b[0m incomplete input\n"
     ]
    }
   ],
   "source": [
    "np.log(binedge[i]) <= np.log(data[\"N\"]"
   ]
  }
 ],
 "metadata": {
  "kernelspec": {
   "display_name": "sparkhalos-MclJENJm-py3.11",
   "language": "python",
   "name": "python3"
  },
  "language_info": {
   "codemirror_mode": {
    "name": "ipython",
    "version": 3
   },
   "file_extension": ".py",
   "mimetype": "text/x-python",
   "name": "python",
   "nbconvert_exporter": "python",
   "pygments_lexer": "ipython3",
   "version": "3.11.2"
  },
  "orig_nbformat": 4
 },
 "nbformat": 4,
 "nbformat_minor": 2
}
